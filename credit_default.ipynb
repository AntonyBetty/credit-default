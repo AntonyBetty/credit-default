{
 "cells": [
  {
   "cell_type": "code",
   "execution_count": 1,
   "metadata": {
    "collapsed": true
   },
   "outputs": [],
   "source": [
    "import pandas as pd"
   ]
  },
  {
   "cell_type": "markdown",
   "source": [
    "这个数据集是台湾某银行 2005 年 4 月到 9 月的信用卡数据，数据集一共包括 25 个字段。\n",
    "现在我们的目标是要针对这个数据集构建一个分析信用卡违约率的分类器。\n",
    "具体选择哪个分类器，以及分类器的参数如何优化，我们可以用 GridSearchCV 这个工具跑一遍。"
   ],
   "metadata": {
    "collapsed": false,
    "pycharm": {
     "name": "#%% md\n"
    }
   }
  },
  {
   "cell_type": "markdown",
   "source": [
    "项目描述：\n",
    "\n",
    "信用卡违约率分析：针对台湾某银行信用卡的数据，构建一个分析信用卡违约率的分类器。\n",
    "采用 Random Forest 算法，信用卡违约率识别率在 80% 左右。"
   ],
   "metadata": {
    "collapsed": false,
    "pycharm": {
     "name": "#%% md\n"
    }
   }
  },
  {
   "cell_type": "code",
   "execution_count": 56,
   "outputs": [],
   "source": [
    "# 调包\n",
    "import pandas as pd\n",
    "from sklearn.model_selection import learning_curve, train_test_split, GridSearchCV\n",
    "from sklearn.preprocessing import StandardScaler\n",
    "from sklearn.pipeline import Pipeline\n",
    "from sklearn.metrics import accuracy_score\n",
    "# 分类器库\n",
    "from sklearn.svm import SVC\n",
    "from sklearn.tree import DecisionTreeClassifier\n",
    "from sklearn.ensemble import RandomForestClassifier\n",
    "from sklearn.neighbors import KNeighborsClassifier\n",
    "from sklearn.ensemble import AdaBoostClassifier\n",
    "# 可视化库\n",
    "from matplotlib import pyplot as plt\n",
    "import seaborn as sns"
   ],
   "metadata": {
    "collapsed": false,
    "pycharm": {
     "name": "#%%\n"
    }
   }
  },
  {
   "cell_type": "code",
   "execution_count": 57,
   "outputs": [],
   "source": [
    "# 数据加载\n",
    "data = pd.read_csv('./UCI_Credit_Card.csv')"
   ],
   "metadata": {
    "collapsed": false,
    "pycharm": {
     "name": "#%%\n"
    }
   }
  },
  {
   "cell_type": "code",
   "execution_count": 58,
   "outputs": [
    {
     "name": "stdout",
     "output_type": "stream",
     "text": [
      "(30000, 25)\n",
      "Index(['ID', 'LIMIT_BAL', 'SEX', 'EDUCATION', 'MARRIAGE', 'AGE', 'PAY_0',\n",
      "       'PAY_2', 'PAY_3', 'PAY_4', 'PAY_5', 'PAY_6', 'BILL_AMT1', 'BILL_AMT2',\n",
      "       'BILL_AMT3', 'BILL_AMT4', 'BILL_AMT5', 'BILL_AMT6', 'PAY_AMT1',\n",
      "       'PAY_AMT2', 'PAY_AMT3', 'PAY_AMT4', 'PAY_AMT5', 'PAY_AMT6',\n",
      "       'default.payment.next.month'],\n",
      "      dtype='object')\n",
      "<class 'pandas.core.frame.DataFrame'>\n",
      "RangeIndex: 30000 entries, 0 to 29999\n",
      "Data columns (total 25 columns):\n",
      " #   Column                      Non-Null Count  Dtype  \n",
      "---  ------                      --------------  -----  \n",
      " 0   ID                          30000 non-null  int64  \n",
      " 1   LIMIT_BAL                   30000 non-null  float64\n",
      " 2   SEX                         30000 non-null  int64  \n",
      " 3   EDUCATION                   30000 non-null  int64  \n",
      " 4   MARRIAGE                    30000 non-null  int64  \n",
      " 5   AGE                         30000 non-null  int64  \n",
      " 6   PAY_0                       30000 non-null  int64  \n",
      " 7   PAY_2                       30000 non-null  int64  \n",
      " 8   PAY_3                       30000 non-null  int64  \n",
      " 9   PAY_4                       30000 non-null  int64  \n",
      " 10  PAY_5                       30000 non-null  int64  \n",
      " 11  PAY_6                       30000 non-null  int64  \n",
      " 12  BILL_AMT1                   30000 non-null  float64\n",
      " 13  BILL_AMT2                   30000 non-null  float64\n",
      " 14  BILL_AMT3                   30000 non-null  float64\n",
      " 15  BILL_AMT4                   30000 non-null  float64\n",
      " 16  BILL_AMT5                   30000 non-null  float64\n",
      " 17  BILL_AMT6                   30000 non-null  float64\n",
      " 18  PAY_AMT1                    30000 non-null  float64\n",
      " 19  PAY_AMT2                    30000 non-null  float64\n",
      " 20  PAY_AMT3                    30000 non-null  float64\n",
      " 21  PAY_AMT4                    30000 non-null  float64\n",
      " 22  PAY_AMT5                    30000 non-null  float64\n",
      " 23  PAY_AMT6                    30000 non-null  float64\n",
      " 24  default.payment.next.month  30000 non-null  int64  \n",
      "dtypes: float64(13), int64(12)\n",
      "memory usage: 5.7 MB\n",
      "None\n",
      "                 ID       LIMIT_BAL           SEX     EDUCATION      MARRIAGE  \\\n",
      "count  30000.000000    30000.000000  30000.000000  30000.000000  30000.000000   \n",
      "mean   15000.500000   167484.322667      1.603733      1.853133      1.551867   \n",
      "std     8660.398374   129747.661567      0.489129      0.790349      0.521970   \n",
      "min        1.000000    10000.000000      1.000000      0.000000      0.000000   \n",
      "25%     7500.750000    50000.000000      1.000000      1.000000      1.000000   \n",
      "50%    15000.500000   140000.000000      2.000000      2.000000      2.000000   \n",
      "75%    22500.250000   240000.000000      2.000000      2.000000      2.000000   \n",
      "max    30000.000000  1000000.000000      2.000000      6.000000      3.000000   \n",
      "\n",
      "                AGE         PAY_0         PAY_2         PAY_3         PAY_4  \\\n",
      "count  30000.000000  30000.000000  30000.000000  30000.000000  30000.000000   \n",
      "mean      35.485500     -0.016700     -0.133767     -0.166200     -0.220667   \n",
      "std        9.217904      1.123802      1.197186      1.196868      1.169139   \n",
      "min       21.000000     -2.000000     -2.000000     -2.000000     -2.000000   \n",
      "25%       28.000000     -1.000000     -1.000000     -1.000000     -1.000000   \n",
      "50%       34.000000      0.000000      0.000000      0.000000      0.000000   \n",
      "75%       41.000000      0.000000      0.000000      0.000000      0.000000   \n",
      "max       79.000000      8.000000      8.000000      8.000000      8.000000   \n",
      "\n",
      "       ...      BILL_AMT4      BILL_AMT5      BILL_AMT6       PAY_AMT1  \\\n",
      "count  ...   30000.000000   30000.000000   30000.000000   30000.000000   \n",
      "mean   ...   43262.948967   40311.400967   38871.760400    5663.580500   \n",
      "std    ...   64332.856134   60797.155770   59554.107537   16563.280354   \n",
      "min    ... -170000.000000  -81334.000000 -339603.000000       0.000000   \n",
      "25%    ...    2326.750000    1763.000000    1256.000000    1000.000000   \n",
      "50%    ...   19052.000000   18104.500000   17071.000000    2100.000000   \n",
      "75%    ...   54506.000000   50190.500000   49198.250000    5006.000000   \n",
      "max    ...  891586.000000  927171.000000  961664.000000  873552.000000   \n",
      "\n",
      "           PAY_AMT2      PAY_AMT3       PAY_AMT4       PAY_AMT5  \\\n",
      "count  3.000000e+04   30000.00000   30000.000000   30000.000000   \n",
      "mean   5.921163e+03    5225.68150    4826.076867    4799.387633   \n",
      "std    2.304087e+04   17606.96147   15666.159744   15278.305679   \n",
      "min    0.000000e+00       0.00000       0.000000       0.000000   \n",
      "25%    8.330000e+02     390.00000     296.000000     252.500000   \n",
      "50%    2.009000e+03    1800.00000    1500.000000    1500.000000   \n",
      "75%    5.000000e+03    4505.00000    4013.250000    4031.500000   \n",
      "max    1.684259e+06  896040.00000  621000.000000  426529.000000   \n",
      "\n",
      "            PAY_AMT6  default.payment.next.month  \n",
      "count   30000.000000                30000.000000  \n",
      "mean     5215.502567                    0.221200  \n",
      "std     17777.465775                    0.415062  \n",
      "min         0.000000                    0.000000  \n",
      "25%       117.750000                    0.000000  \n",
      "50%      1500.000000                    0.000000  \n",
      "75%      4000.000000                    0.000000  \n",
      "max    528666.000000                    1.000000  \n",
      "\n",
      "[8 rows x 25 columns]\n",
      "2    18112\n",
      "1    11888\n",
      "Name: SEX, dtype: int64\n",
      "0    23364\n",
      "1     6636\n",
      "Name: default.payment.next.month, dtype: int64\n"
     ]
    },
    {
     "data": {
      "text/plain": "<Figure size 432x432 with 1 Axes>",
      "image/png": "[encoded data removed]"
     },
     "metadata": {
      "needs_background": "light"
     },
     "output_type": "display_data"
    }
   ],
   "source": [
    "# 数据探索\n",
    "# (30000, 25)\n",
    "print(data.shape)\n",
    "print(data.columns)\n",
    "print(data.info())\n",
    "print(data.describe())\n",
    "print(data['SEX'].value_counts())\n",
    "# 查看下一个月违约率的情况\n",
    "print(data['default.payment.next.month'].value_counts())\n",
    "# 查看下一个月违约率的情况\n",
    "next_month = data['default.payment.next.month'].value_counts()\n",
    "df = pd.DataFrame(\n",
    "    {'default.payment.next.month' : next_month.index,\n",
    "     'values' : next_month.values}\n",
    ")\n",
    "# 用来正常显示中文标签\n",
    "plt.rcParams['font.sans-serif'] = ['SimHei']\n",
    "plt.figure(figsize=(6, 6))\n",
    "plt.title('信用卡违约率客户\\n (违约：1， 守约：0)')\n",
    "sns.set_color_codes('pastel')\n",
    "sns.barplot(x = 'default.payment.next.month', y = 'values', data = df)\n",
    "locs, labels = plt.xticks()\n",
    "plt.show()"
   ],
   "metadata": {
    "collapsed": false,
    "pycharm": {
     "name": "#%%\n"
    }
   }
  },
  {
   "cell_type": "code",
   "execution_count": 59,
   "outputs": [],
   "source": [
    "# 特征选择\n",
    "# 特征选择，去掉 ID 字段、最后一个结果字段即可\n",
    "# ID 这个字段没有用\n",
    "data.drop(['ID'], inplace = True, axis = 1)\n",
    "target = data['default.payment.next.month']\n",
    "columns = data.columns.tolist()\n",
    "columns.remove('default.payment.next.month')\n",
    "features = data[columns]"
   ],
   "metadata": {
    "collapsed": false,
    "pycharm": {
     "name": "#%%\n"
    }
   }
  },
  {
   "cell_type": "code",
   "execution_count": 60,
   "outputs": [],
   "source": [
    "# 划分训练集、测试集:30%作为测试集，其余作为训练集\n",
    "train_x, test_x, train_y, test_y = train_test_split(features, target, test_size=0.3, stratify = target, random_state=1)"
   ],
   "metadata": {
    "collapsed": false,
    "pycharm": {
     "name": "#%%\n"
    }
   }
  },
  {
   "cell_type": "code",
   "execution_count": 64,
   "outputs": [],
   "source": [
    "# 构造分类器：分类器函数、名称、参数字典\n",
    "# 1、构造各种分类器\n",
    "clasifiers = [\n",
    "    # kernel 代表核函数的选择，它有四种选择，只不过默认是 rbf，即高斯核函数。\n",
    "    SVC(random_state=1, kernel='rbf'),\n",
    "    # 默认情况下 criterion 这个参数等于 gini，也就是按照基尼系数来选择属性划分，即默认采用的是 CART 分类树。\n",
    "    DecisionTreeClassifier(random_state=1, criterion='gini'),\n",
    "    # 决策树的分类标准，默认是基尼指数（CART算法）。\n",
    "    RandomForestClassifier(random_state=1, criterion='gini'),\n",
    "    # metric：指定距离度量方法，一般都是使用欧式距离。'minkowski’： 闵可夫斯基距离，默认参数。\n",
    "    KNeighborsClassifier(metric = 'minkowski'),\n",
    "    AdaBoostClassifier(random_state=1)\n",
    "]\n",
    "# 2、分类器名称\n",
    "clasifier_names = [\n",
    "    'svc',\n",
    "    'decisiontreeclassifier',\n",
    "    'randomforestclassifier',\n",
    "    'kneiborsclassifier',\n",
    "    'adaboostclassifier'\n",
    "]\n",
    "# 3、分类器参数\n",
    "classifier_param_grid = [\n",
    "    # 参数 C 代表目标函数的惩罚系数，惩罚系数指的是分错样本时的惩罚程度，默认情况下为 1.0。\n",
    "    # 当 C 越大的时候，分类器的准确性越高，但同样容错率会越低，泛化能力会变差。相反，C 越小，泛化能力越强，但是准确性会降低。\n",
    "    # 参数 gamma 代表核函数的系数，默认为样本特征数的倒数，即 gamma = 1 / n_features\n",
    "    {'svc__C':[1], 'svc__gamma':[0.01]},\n",
    "    {'decisiontreeclassifier__max_depth':[6, 9, 11]},\n",
    "    # 随机森林决策树的个数，默认是10\n",
    "    {'randomforestclassifier__n_estimators':[3, 5, 6]},\n",
    "    # n_neighbors：即 KNN 中的 K 值，代表的是邻居的数量。\n",
    "    # K 值如果比较小，会造成过拟合。如果 K 值比较大，无法将未知物体分类出来。一般我们使用默认值 5。\n",
    "    {'kneiborsclassifier__n_neighbors':[4, 6, 8]},\n",
    "    {'adaboostclassifier__n_estimators':[10, 50, 100]}\n",
    "]"
   ],
   "metadata": {
    "collapsed": false,
    "pycharm": {
     "name": "#%%\n"
    }
   }
  },
  {
   "cell_type": "code",
   "execution_count": 65,
   "outputs": [],
   "source": [
    "# 构造GridSearchCV参数调优函数\n",
    "def GridSearchCV_work(pipeline, train_x, train_y, test_x, text_y, param_grid, score = 'accuracy'):\n",
    "    response = {}\n",
    "    gridsearch = GridSearchCV(estimator = pipeline, param_grid = param_grid, scoring = score)\n",
    "    # 寻找最优的参数 和 最优的准确率分数\n",
    "    # 使用21000条数据去训练模型\n",
    "    search = gridsearch.fit(train_x, train_y)\n",
    "    print(\"GridSearch 最优参数： \", search.best_params_)\n",
    "    print(\"GridSearch 最优分数： %0.4lf\" %search.best_score_)\n",
    "    # 对剩下的9000条数据进行预测\n",
    "    prdict_y = gridsearch.predict(test_x)\n",
    "    # 计算准确率，正确数据在前、预测数据在后\n",
    "    print(\"准确率为： %0.4lf\" %accuracy_score(test_y, prdict_y))\n",
    "    response['predict_y'] = prdict_y\n",
    "    response['accuracy_score'] = accuracy_score(test_y, prdict_y)\n",
    "    # 打印返回字典，包含预测结果、准确率\n",
    "    # print(response)\n",
    "    return response"
   ],
   "metadata": {
    "collapsed": false,
    "pycharm": {
     "name": "#%%\n"
    }
   }
  },
  {
   "cell_type": "code",
   "execution_count": 66,
   "outputs": [
    {
     "name": "stdout",
     "output_type": "stream",
     "text": [
      "GridSearch 最优参数：  {'svc__C': 1, 'svc__gamma': 0.01}\n",
      "GridSearch 最优分数： 0.8186\n",
      "准确率为： 0.8172\n",
      "GridSearch 最优参数：  {'decisiontreeclassifier__max_depth': 6}\n",
      "GridSearch 最优分数： 0.8208\n",
      "准确率为： 0.8113\n",
      "GridSearch 最优参数：  {'randomforestclassifier__n_estimators': 60}\n",
      "GridSearch 最优分数： 0.8154\n",
      "准确率为： 0.8137\n",
      "GridSearch 最优参数：  {'kneiborsclassifier__n_neighbors': 8}\n",
      "GridSearch 最优分数： 0.8039\n",
      "准确率为： 0.8036\n",
      "GridSearch 最优参数：  {'adaboostclassifier__n_estimators': 10}\n",
      "GridSearch 最优分数： 0.8188\n",
      "准确率为： 0.8129\n"
     ]
    }
   ],
   "source": [
    "# 以下是主程序：\n",
    "    # 1、先输入了SVC，\n",
    "\n",
    "# 循环输出分类器参数、分数\n",
    "for model, model_name, model_param_grid in zip(clasifiers, clasifier_names, classifier_param_grid):\n",
    "    # 依次传入不同的模型、模型姓名、模型参数网格，形成不同的pipeline，最终输入到GridSearchCV，去输出最优的参数、分数、预测率\n",
    "    pipeline = Pipeline([\n",
    "        ('scaler', StandardScaler()),\n",
    "        (model_name, model)\n",
    "    ])\n",
    "    result = GridSearchCV_work(pipeline, train_x, train_y, test_x, test_y, model_param_grid, score = 'accuracy')"
   ],
   "metadata": {
    "collapsed": false,
    "pycharm": {
     "name": "#%%\n"
    }
   }
  },
  {
   "cell_type": "code",
   "execution_count": null,
   "outputs": [],
   "source": [],
   "metadata": {
    "collapsed": false,
    "pycharm": {
     "name": "#%%\n"
    }
   }
  }
 ],
 "metadata": {
  "kernelspec": {
   "display_name": "Python 3",
   "language": "python",
   "name": "python3"
  },
  "language_info": {
   "codemirror_mode": {
    "name": "ipython",
    "version": 2
   },
   "file_extension": ".py",
   "mimetype": "text/x-python",
   "name": "python",
   "nbconvert_exporter": "python",
   "pygments_lexer": "ipython2",
   "version": "2.7.6"
  }
 },
 "nbformat": 4,
 "nbformat_minor": 0
}